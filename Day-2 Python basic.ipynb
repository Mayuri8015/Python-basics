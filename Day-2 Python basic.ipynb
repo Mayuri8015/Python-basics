{
 "cells": [
  {
   "cell_type": "code",
   "execution_count": 9,
   "id": "9388a01d",
   "metadata": {},
   "outputs": [
    {
     "name": "stdout",
     "output_type": "stream",
     "text": [
      "enter a interger 30\n"
     ]
    }
   ],
   "source": [
    "a = input(\"enter a interger \")"
   ]
  },
  {
   "cell_type": "code",
   "execution_count": 10,
   "id": "ea7d93c4",
   "metadata": {},
   "outputs": [
    {
     "data": {
      "text/plain": [
       "str"
      ]
     },
     "execution_count": 10,
     "metadata": {},
     "output_type": "execute_result"
    }
   ],
   "source": [
    "type(a)"
   ]
  },
  {
   "cell_type": "code",
   "execution_count": 11,
   "id": "fd13c2f8",
   "metadata": {},
   "outputs": [
    {
     "data": {
      "text/plain": [
       "method"
      ]
     },
     "execution_count": 11,
     "metadata": {},
     "output_type": "execute_result"
    }
   ],
   "source": [
    "type(input)"
   ]
  },
  {
   "cell_type": "code",
   "execution_count": 12,
   "id": "57b45357",
   "metadata": {},
   "outputs": [
    {
     "name": "stdout",
     "output_type": "stream",
     "text": [
      "this is my var a 12\n",
      "this is my var b 15\n",
      "this is my var c 18\n"
     ]
    }
   ],
   "source": [
    "a = int(input(\"this is my var a \"))\n",
    "b = int(input(\"this is my var b \"))\n",
    "c = int(input(\"this is my var c \"))\n",
    "#o = a+b/c\n",
    "#o1 = o + 78 + 6j\n",
    "#str(o1) + \"sudh\""
   ]
  },
  {
   "cell_type": "code",
   "execution_count": 13,
   "id": "1c316fbf",
   "metadata": {},
   "outputs": [],
   "source": [
    "o = a+b/c"
   ]
  },
  {
   "cell_type": "code",
   "execution_count": 14,
   "id": "8a316f3a",
   "metadata": {},
   "outputs": [
    {
     "name": "stdout",
     "output_type": "stream",
     "text": [
      "12.833333333333334\n"
     ]
    }
   ],
   "source": [
    "print(o)"
   ]
  },
  {
   "cell_type": "code",
   "execution_count": 15,
   "id": "0d67f803",
   "metadata": {},
   "outputs": [],
   "source": [
    "o1 = o + 78 + 6j"
   ]
  },
  {
   "cell_type": "code",
   "execution_count": 16,
   "id": "6cddf7bf",
   "metadata": {},
   "outputs": [
    {
     "data": {
      "text/plain": [
       "(90.83333333333333+6j)"
      ]
     },
     "execution_count": 16,
     "metadata": {},
     "output_type": "execute_result"
    }
   ],
   "source": [
    "o1"
   ]
  },
  {
   "cell_type": "code",
   "execution_count": 17,
   "id": "1b14e500",
   "metadata": {},
   "outputs": [
    {
     "data": {
      "text/plain": [
       "'(90.83333333333333+6j)sudh'"
      ]
     },
     "execution_count": 17,
     "metadata": {},
     "output_type": "execute_result"
    }
   ],
   "source": [
    "str(o1) + \"sudh\""
   ]
  },
  {
   "cell_type": "code",
   "execution_count": 18,
   "id": "222b9a14",
   "metadata": {},
   "outputs": [
    {
     "name": "stdout",
     "output_type": "stream",
     "text": [
      "enter first number 11\n",
      "enter second number 12\n"
     ]
    }
   ],
   "source": [
    "num1= int(input(\"enter first number \"))\n",
    "num2= int(input(\"enter second number \"))"
   ]
  },
  {
   "cell_type": "code",
   "execution_count": 19,
   "id": "e645d439",
   "metadata": {},
   "outputs": [],
   "source": [
    "sum_num = num1 + num2\n",
    "diff_num = num1 - num2\n",
    "mult_num = num1 * num2\n",
    "div_num = num1 / num2\n",
    "mod_num = num1 % num2\n",
    "quot_num = num1 // num2"
   ]
  },
  {
   "cell_type": "code",
   "execution_count": 24,
   "id": "3e126f5d",
   "metadata": {},
   "outputs": [
    {
     "name": "stdout",
     "output_type": "stream",
     "text": [
      "Sum of two numbers 11  and  12  is 23\n",
      "Diff of two numbers 11  and  12  is -1\n",
      "Mult of two numbers 11  and  12  is 132\n",
      "Div of two numbers 11  and  12  is 0.9166666666666666\n",
      "Mod of two numbers 11  and  12  is 11\n",
      "Quot of two numbers 11  and  12  is 0\n"
     ]
    }
   ],
   "source": [
    "print(\"Sum of two numbers\",num1,\" and \",num2,\" is\",sum_num)\n",
    "print(\"Diff of two numbers\",num1,\" and \",num2,\" is\",diff_num)\n",
    "print(\"Mult of two numbers\",num1,\" and \",num2,\" is\",mult_num)\n",
    "print(\"Div of two numbers\",num1,\" and \",num2,\" is\",div_num)\n",
    "print(\"Mod of two numbers\",num1,\" and \",num2,\" is\",mod_num)\n",
    "print(\"Quot of two numbers\",num1,\" and \",num2,\" is\",quot_num)"
   ]
  },
  {
   "cell_type": "markdown",
   "id": "d57ed829",
   "metadata": {},
   "source": [
    "# range function"
   ]
  },
  {
   "cell_type": "code",
   "execution_count": 25,
   "id": "9a38c60b",
   "metadata": {},
   "outputs": [
    {
     "data": {
      "text/plain": [
       "range(0, 10)"
      ]
     },
     "execution_count": 25,
     "metadata": {},
     "output_type": "execute_result"
    }
   ],
   "source": [
    "range(10) ## print list of values from 0 to n-1"
   ]
  },
  {
   "cell_type": "code",
   "execution_count": 26,
   "id": "c767c886",
   "metadata": {},
   "outputs": [
    {
     "name": "stdout",
     "output_type": "stream",
     "text": [
      "range(0, 10)\n"
     ]
    }
   ],
   "source": [
    "print(range(10))"
   ]
  },
  {
   "cell_type": "code",
   "execution_count": 27,
   "id": "09247793",
   "metadata": {},
   "outputs": [
    {
     "data": {
      "text/plain": [
       "[0, 1, 2, 3, 4, 5, 6, 7, 8, 9]"
      ]
     },
     "execution_count": 27,
     "metadata": {},
     "output_type": "execute_result"
    }
   ],
   "source": [
    "list(range(10)) #print numbers from 0 to 9 (10-1)"
   ]
  },
  {
   "cell_type": "code",
   "execution_count": 28,
   "id": "208abe65",
   "metadata": {},
   "outputs": [
    {
     "data": {
      "text/plain": [
       "[0, 1, 2, 3, 4, 5, 6, 7, 8, 9, 10, 11]"
      ]
     },
     "execution_count": 28,
     "metadata": {},
     "output_type": "execute_result"
    }
   ],
   "source": [
    "list(range(12))"
   ]
  },
  {
   "cell_type": "code",
   "execution_count": 31,
   "id": "961d33cb",
   "metadata": {},
   "outputs": [
    {
     "data": {
      "text/plain": [
       "[3, 4, 5, 6, 7, 8, 9]"
      ]
     },
     "execution_count": 31,
     "metadata": {},
     "output_type": "execute_result"
    }
   ],
   "source": [
    "list(range(3,10))  ##print numbers from 3 till 9"
   ]
  },
  {
   "cell_type": "code",
   "execution_count": 36,
   "id": "c974bf58",
   "metadata": {},
   "outputs": [
    {
     "data": {
      "text/plain": [
       "[3, 5, 7, 9, 11, 13, 15, 17, 19]"
      ]
     },
     "execution_count": 36,
     "metadata": {},
     "output_type": "execute_result"
    }
   ],
   "source": [
    "list(range(3,20,2)) #print numbers from 3 till 9 by skipping 1 numbers in between (step size-1)"
   ]
  },
  {
   "cell_type": "code",
   "execution_count": 40,
   "id": "4bc9e6dc",
   "metadata": {},
   "outputs": [
    {
     "data": {
      "text/plain": [
       "[1, 2, 3, 4, 5, 6, 7, 8, 9, 10, 11, 12, 13, 14]"
      ]
     },
     "execution_count": 40,
     "metadata": {},
     "output_type": "execute_result"
    }
   ],
   "source": [
    "list(range(1,15))"
   ]
  },
  {
   "cell_type": "code",
   "execution_count": 43,
   "id": "398e9121",
   "metadata": {},
   "outputs": [
    {
     "data": {
      "text/plain": [
       "[3, 4, 5, 6, 7, 8, 9, 10, 11, 12, 13, 14, 15, 16, 17, 18, 19]"
      ]
     },
     "execution_count": 43,
     "metadata": {},
     "output_type": "execute_result"
    }
   ],
   "source": [
    "list(range(3,20,3)) #3 print numbers from 3 till 19 by skipping 2 numbers in between (step size-1)"
   ]
  },
  {
   "cell_type": "code",
   "execution_count": 45,
   "id": "8f6eb543",
   "metadata": {},
   "outputs": [
    {
     "ename": "TypeError",
     "evalue": "'float' object cannot be interpreted as an integer",
     "output_type": "error",
     "traceback": [
      "\u001b[1;31m---------------------------------------------------------------------------\u001b[0m",
      "\u001b[1;31mTypeError\u001b[0m                                 Traceback (most recent call last)",
      "Cell \u001b[1;32mIn[45], line 1\u001b[0m\n\u001b[1;32m----> 1\u001b[0m \u001b[38;5;28mlist\u001b[39m(\u001b[38;5;28;43mrange\u001b[39;49m\u001b[43m(\u001b[49m\u001b[38;5;241;43m3\u001b[39;49m\u001b[43m,\u001b[49m\u001b[38;5;241;43m45.87\u001b[39;49m\u001b[43m,\u001b[49m\u001b[38;5;241;43m3\u001b[39;49m\u001b[43m)\u001b[49m) \u001b[38;5;66;03m## range doesnt work on floating point numbers\u001b[39;00m\n",
      "\u001b[1;31mTypeError\u001b[0m: 'float' object cannot be interpreted as an integer"
     ]
    }
   ],
   "source": [
    "list(range(3, 45.87, 3)) ## range doesnt work on floating point numbers"
   ]
  },
  {
   "cell_type": "code",
   "execution_count": 47,
   "id": "a2410954",
   "metadata": {},
   "outputs": [
    {
     "data": {
      "text/plain": [
       "[3, 6, 9, 12, 15, 18, 21, 24, 27, 30, 33, 36, 39, 42]"
      ]
     },
     "execution_count": 47,
     "metadata": {},
     "output_type": "execute_result"
    }
   ],
   "source": [
    "list(range(int(3.56),int(45.87),3))"
   ]
  },
  {
   "cell_type": "code",
   "execution_count": 48,
   "id": "54f84478",
   "metadata": {},
   "outputs": [
    {
     "data": {
      "text/plain": [
       "[]"
      ]
     },
     "execution_count": 48,
     "metadata": {},
     "output_type": "execute_result"
    }
   ],
   "source": [
    "list(range(3,45,-3))   ##there is no syntax error but it will give an empty list"
   ]
  },
  {
   "cell_type": "code",
   "execution_count": 49,
   "id": "9fd9dff9",
   "metadata": {},
   "outputs": [
    {
     "data": {
      "text/plain": [
       "[45, 42, 39, 36, 33, 30, 27, 24, 21, 18, 15, 12, 9, 6]"
      ]
     },
     "execution_count": 49,
     "metadata": {},
     "output_type": "execute_result"
    }
   ],
   "source": [
    "list(range(45,3,-3))  ##can go backwards provided the starting number is bigger"
   ]
  },
  {
   "cell_type": "code",
   "execution_count": 50,
   "id": "78ffa25f",
   "metadata": {},
   "outputs": [
    {
     "data": {
      "text/plain": [
       "[]"
      ]
     },
     "execution_count": 50,
     "metadata": {},
     "output_type": "execute_result"
    }
   ],
   "source": [
    "list(range(45,3,3))  ##there is no syntax error but it will give an empty list"
   ]
  },
  {
   "cell_type": "code",
   "execution_count": 51,
   "id": "6bc46b9b",
   "metadata": {},
   "outputs": [
    {
     "data": {
      "text/plain": [
       "[-3, -6, -9, -12, -15, -18, -21, -24, -27, -30, -33, -36, -39, -42]"
      ]
     },
     "execution_count": 51,
     "metadata": {},
     "output_type": "execute_result"
    }
   ],
   "source": [
    "list(range(-3,-45,-3))"
   ]
  },
  {
   "cell_type": "code",
   "execution_count": 54,
   "id": "f1127b60",
   "metadata": {},
   "outputs": [
    {
     "data": {
      "text/plain": [
       "[]"
      ]
     },
     "execution_count": 54,
     "metadata": {},
     "output_type": "execute_result"
    }
   ],
   "source": [
    "list(range(-3,-45,3))"
   ]
  },
  {
   "cell_type": "code",
   "execution_count": 57,
   "id": "dcaadc00",
   "metadata": {},
   "outputs": [
    {
     "data": {
      "text/plain": [
       "[-45, -40, -35, -30, -25, -20, -15, -10, -5]"
      ]
     },
     "execution_count": 57,
     "metadata": {},
     "output_type": "execute_result"
    }
   ],
   "source": [
    "list(range(-45,-3, 5))"
   ]
  },
  {
   "cell_type": "code",
   "execution_count": 75,
   "id": "37aade03",
   "metadata": {},
   "outputs": [],
   "source": [
    "name =  \"INDIA  \""
   ]
  },
  {
   "cell_type": "code",
   "execution_count": 76,
   "id": "f223280f",
   "metadata": {},
   "outputs": [
    {
     "data": {
      "text/plain": [
       "str"
      ]
     },
     "execution_count": 76,
     "metadata": {},
     "output_type": "execute_result"
    }
   ],
   "source": [
    "type(name)"
   ]
  },
  {
   "cell_type": "code",
   "execution_count": 77,
   "id": "8be07239",
   "metadata": {},
   "outputs": [],
   "source": [
    "len_name = len(name)"
   ]
  },
  {
   "cell_type": "code",
   "execution_count": 78,
   "id": "101de332",
   "metadata": {},
   "outputs": [
    {
     "name": "stdout",
     "output_type": "stream",
     "text": [
      "7\n"
     ]
    }
   ],
   "source": [
    "print(len_name)"
   ]
  },
  {
   "cell_type": "code",
   "execution_count": 79,
   "id": "97c45f8b",
   "metadata": {},
   "outputs": [
    {
     "data": {
      "text/plain": [
       "[0, 1, 2, 3, 4, 5, 6]"
      ]
     },
     "execution_count": 79,
     "metadata": {},
     "output_type": "execute_result"
    }
   ],
   "source": [
    "list(range(len_name))"
   ]
  },
  {
   "cell_type": "code",
   "execution_count": 80,
   "id": "90b310f2",
   "metadata": {},
   "outputs": [],
   "source": [
    "list_items = []  #square bracket stands for list"
   ]
  },
  {
   "cell_type": "code",
   "execution_count": 81,
   "id": "5c707243",
   "metadata": {},
   "outputs": [
    {
     "name": "stdout",
     "output_type": "stream",
     "text": [
      "[]\n"
     ]
    }
   ],
   "source": [
    "print(list_items)"
   ]
  },
  {
   "cell_type": "code",
   "execution_count": 86,
   "id": "5f315867",
   "metadata": {},
   "outputs": [],
   "source": [
    "list_items = [\"hello\",55,67.53,\"a\",45,\"anand\",\"India\",34.567,98,True,False, 56+6j]  ##list of items"
   ]
  },
  {
   "cell_type": "code",
   "execution_count": 87,
   "id": "a6a68737",
   "metadata": {},
   "outputs": [
    {
     "name": "stdout",
     "output_type": "stream",
     "text": [
      "['hello', 55, 67.53, 'a', 45, 'anand', 'India', 34.567, 98, True, False, (56+6j)]\n"
     ]
    }
   ],
   "source": [
    "print(list_items)"
   ]
  },
  {
   "cell_type": "code",
   "execution_count": 89,
   "id": "cc518a12",
   "metadata": {},
   "outputs": [],
   "source": [
    "len_list = len(list_items)"
   ]
  },
  {
   "cell_type": "code",
   "execution_count": 90,
   "id": "54b00f22",
   "metadata": {},
   "outputs": [
    {
     "name": "stdout",
     "output_type": "stream",
     "text": [
      "12\n"
     ]
    }
   ],
   "source": [
    "print(len_list)"
   ]
  },
  {
   "cell_type": "code",
   "execution_count": 94,
   "id": "d9bdb072",
   "metadata": {},
   "outputs": [
    {
     "data": {
      "text/plain": [
       "'India'"
      ]
     },
     "execution_count": 94,
     "metadata": {},
     "output_type": "execute_result"
    }
   ],
   "source": [
    "list_items[6] ## accessing the 6th element"
   ]
  },
  {
   "cell_type": "code",
   "execution_count": 95,
   "id": "d5fd57f8",
   "metadata": {},
   "outputs": [
    {
     "data": {
      "text/plain": [
       "[67.53, 'a', 45, 'anand', 'India', 34.567, 98, True, False, (56+6j)]"
      ]
     },
     "execution_count": 95,
     "metadata": {},
     "output_type": "execute_result"
    }
   ],
   "source": [
    "list_items[2:]  ##give all the items from 3rd onwards"
   ]
  },
  {
   "cell_type": "code",
   "execution_count": 96,
   "id": "1c566313",
   "metadata": {},
   "outputs": [
    {
     "data": {
      "text/plain": [
       "['hello',\n",
       " 55,\n",
       " 67.53,\n",
       " 'a',\n",
       " 45,\n",
       " 'anand',\n",
       " 'India',\n",
       " 34.567,\n",
       " 98,\n",
       " True,\n",
       " False,\n",
       " (56+6j)]"
      ]
     },
     "execution_count": 96,
     "metadata": {},
     "output_type": "execute_result"
    }
   ],
   "source": [
    "list_items[:] ## gives all the items"
   ]
  },
  {
   "cell_type": "code",
   "execution_count": 97,
   "id": "575680a1",
   "metadata": {},
   "outputs": [
    {
     "data": {
      "text/plain": [
       "['hello', 55, 67.53, 'a']"
      ]
     },
     "execution_count": 97,
     "metadata": {},
     "output_type": "execute_result"
    }
   ],
   "source": [
    "list_items[:4] "
   ]
  },
  {
   "cell_type": "code",
   "execution_count": 98,
   "id": "029299a1",
   "metadata": {},
   "outputs": [
    {
     "data": {
      "text/plain": [
       "['a', 45, 'anand', 'India']"
      ]
     },
     "execution_count": 98,
     "metadata": {},
     "output_type": "execute_result"
    }
   ],
   "source": [
    "list_items[3:7]"
   ]
  },
  {
   "cell_type": "code",
   "execution_count": 99,
   "id": "e5767043",
   "metadata": {},
   "outputs": [
    {
     "data": {
      "text/plain": [
       "['anand', 'India', 34.567, 98, True, False, (56+6j)]"
      ]
     },
     "execution_count": 99,
     "metadata": {},
     "output_type": "execute_result"
    }
   ],
   "source": [
    "list_items[5:23]"
   ]
  },
  {
   "cell_type": "code",
   "execution_count": 102,
   "id": "dfb22b7d",
   "metadata": {},
   "outputs": [
    {
     "ename": "IndexError",
     "evalue": "list index out of range",
     "output_type": "error",
     "traceback": [
      "\u001b[1;31m---------------------------------------------------------------------------\u001b[0m",
      "\u001b[1;31mIndexError\u001b[0m                                Traceback (most recent call last)",
      "Cell \u001b[1;32mIn[102], line 1\u001b[0m\n\u001b[1;32m----> 1\u001b[0m \u001b[43mlist_items\u001b[49m\u001b[43m[\u001b[49m\u001b[38;5;241;43m23\u001b[39;49m\u001b[43m]\u001b[49m\n",
      "\u001b[1;31mIndexError\u001b[0m: list index out of range"
     ]
    }
   ],
   "source": [
    "list_items[23]"
   ]
  },
  {
   "cell_type": "code",
   "execution_count": 103,
   "id": "00f4d8cb",
   "metadata": {},
   "outputs": [
    {
     "data": {
      "text/plain": [
       "['hello',\n",
       " 55,\n",
       " 67.53,\n",
       " 'a',\n",
       " 45,\n",
       " 'anand',\n",
       " 'India',\n",
       " 34.567,\n",
       " 98,\n",
       " True,\n",
       " False,\n",
       " (56+6j)]"
      ]
     },
     "execution_count": 103,
     "metadata": {},
     "output_type": "execute_result"
    }
   ],
   "source": [
    "list_items"
   ]
  },
  {
   "cell_type": "code",
   "execution_count": 104,
   "id": "a988fed2",
   "metadata": {},
   "outputs": [
    {
     "data": {
      "text/plain": [
       "[(56+6j),\n",
       " False,\n",
       " True,\n",
       " 98,\n",
       " 34.567,\n",
       " 'India',\n",
       " 'anand',\n",
       " 45,\n",
       " 'a',\n",
       " 67.53,\n",
       " 55,\n",
       " 'hello']"
      ]
     },
     "execution_count": 104,
     "metadata": {},
     "output_type": "execute_result"
    }
   ],
   "source": [
    "list_items[::-1]  #reversal of elements inside a list"
   ]
  },
  {
   "cell_type": "code",
   "execution_count": 105,
   "id": "bd2875e3",
   "metadata": {},
   "outputs": [
    {
     "data": {
      "text/plain": [
       "[67.53, 45, 'India', 98]"
      ]
     },
     "execution_count": 105,
     "metadata": {},
     "output_type": "execute_result"
    }
   ],
   "source": [
    "list_items[2:9:2]"
   ]
  },
  {
   "cell_type": "code",
   "execution_count": 110,
   "id": "e9ad2e62",
   "metadata": {},
   "outputs": [
    {
     "ename": "TypeError",
     "evalue": "can only concatenate list (not \"str\") to list",
     "output_type": "error",
     "traceback": [
      "\u001b[1;31m---------------------------------------------------------------------------\u001b[0m",
      "\u001b[1;31mTypeError\u001b[0m                                 Traceback (most recent call last)",
      "Cell \u001b[1;32mIn[110], line 1\u001b[0m\n\u001b[1;32m----> 1\u001b[0m \u001b[43m[\u001b[49m\u001b[38;5;241;43m1\u001b[39;49m\u001b[43m,\u001b[49m\u001b[38;5;241;43m2\u001b[39;49m\u001b[43m,\u001b[49m\u001b[38;5;241;43m36.45\u001b[39;49m\u001b[43m,\u001b[49m\u001b[38;5;124;43m\"\u001b[39;49m\u001b[38;5;124;43mFSDS\u001b[39;49m\u001b[38;5;124;43m\"\u001b[39;49m\u001b[43m]\u001b[49m\u001b[43m \u001b[49m\u001b[38;5;241;43m+\u001b[39;49m\u001b[43m \u001b[49m\u001b[38;5;124;43m\"\u001b[39;49m\u001b[38;5;124;43mANAND\u001b[39;49m\u001b[38;5;124;43m\"\u001b[39;49m\n",
      "\u001b[1;31mTypeError\u001b[0m: can only concatenate list (not \"str\") to list"
     ]
    }
   ],
   "source": [
    "[1,2,36.45,\"FSDS\"] + \"ANAND\""
   ]
  },
  {
   "cell_type": "code",
   "execution_count": 108,
   "id": "e100a751",
   "metadata": {},
   "outputs": [
    {
     "data": {
      "text/plain": [
       "[1, 2, 36.45, 'FSDS', 23, 45, 'HELLO']"
      ]
     },
     "execution_count": 108,
     "metadata": {},
     "output_type": "execute_result"
    }
   ],
   "source": [
    "[1,2,36.45,\"FSDS\"] + [23,45,\"HELLO\"] ##list should be concatenated with list only"
   ]
  },
  {
   "cell_type": "markdown",
   "id": "79db7b66",
   "metadata": {},
   "source": [
    "# Append function"
   ]
  },
  {
   "cell_type": "code",
   "execution_count": 111,
   "id": "216241cf",
   "metadata": {},
   "outputs": [
    {
     "data": {
      "text/plain": [
       "['hello',\n",
       " 55,\n",
       " 67.53,\n",
       " 'a',\n",
       " 45,\n",
       " 'anand',\n",
       " 'India',\n",
       " 34.567,\n",
       " 98,\n",
       " True,\n",
       " False,\n",
       " (56+6j)]"
      ]
     },
     "execution_count": 111,
     "metadata": {},
     "output_type": "execute_result"
    }
   ],
   "source": [
    "list_items"
   ]
  },
  {
   "cell_type": "code",
   "execution_count": 112,
   "id": "a06a0b9d",
   "metadata": {},
   "outputs": [
    {
     "name": "stdout",
     "output_type": "stream",
     "text": [
      "['hello', 55, 67.53, 'a', 45, 'anand', 'India', 34.567, 98, True, False, (56+6j)]\n"
     ]
    }
   ],
   "source": [
    "print(list_items) #either aabove or this both will give you same output"
   ]
  },
  {
   "cell_type": "code",
   "execution_count": 113,
   "id": "4a25ecbc",
   "metadata": {},
   "outputs": [],
   "source": [
    "name = \"full stack data analytics\""
   ]
  },
  {
   "cell_type": "code",
   "execution_count": 114,
   "id": "90abd690",
   "metadata": {},
   "outputs": [
    {
     "data": {
      "text/plain": [
       "str"
      ]
     },
     "execution_count": 114,
     "metadata": {},
     "output_type": "execute_result"
    }
   ],
   "source": [
    "type(name)"
   ]
  },
  {
   "cell_type": "code",
   "execution_count": 117,
   "id": "f9b75c34",
   "metadata": {},
   "outputs": [
    {
     "data": {
      "text/plain": [
       "'c'"
      ]
     },
     "execution_count": 117,
     "metadata": {},
     "output_type": "execute_result"
    }
   ],
   "source": [
    "name[len(name)-2]"
   ]
  },
  {
   "cell_type": "code",
   "execution_count": 118,
   "id": "bbd31a52",
   "metadata": {},
   "outputs": [
    {
     "ename": "TypeError",
     "evalue": "'str' object does not support item assignment",
     "output_type": "error",
     "traceback": [
      "\u001b[1;31m---------------------------------------------------------------------------\u001b[0m",
      "\u001b[1;31mTypeError\u001b[0m                                 Traceback (most recent call last)",
      "Cell \u001b[1;32mIn[118], line 1\u001b[0m\n\u001b[1;32m----> 1\u001b[0m \u001b[43mname\u001b[49m\u001b[43m[\u001b[49m\u001b[38;5;28;43mlen\u001b[39;49m\u001b[43m(\u001b[49m\u001b[43mname\u001b[49m\u001b[43m)\u001b[49m\u001b[38;5;241;43m-\u001b[39;49m\u001b[38;5;241;43m2\u001b[39;49m\u001b[43m]\u001b[49m \u001b[38;5;241m=\u001b[39m \u001b[38;5;124m\"\u001b[39m\u001b[38;5;124mm\u001b[39m\u001b[38;5;124m\"\u001b[39m \u001b[38;5;66;03m## strings are immutable in python i.e you cannot change the content\u001b[39;00m\n",
      "\u001b[1;31mTypeError\u001b[0m: 'str' object does not support item assignment"
     ]
    }
   ],
   "source": [
    "name[len(name)-2] = \"m\" ## strings are immutable in python i.e you cannot change the content"
   ]
  },
  {
   "cell_type": "code",
   "execution_count": 119,
   "id": "4c62ed19",
   "metadata": {},
   "outputs": [],
   "source": [
    "#34 then how to make it mutable ? thats the HW for you"
   ]
  },
  {
   "cell_type": "code",
   "execution_count": 120,
   "id": "5c199eef",
   "metadata": {},
   "outputs": [
    {
     "data": {
      "text/plain": [
       "['hello',\n",
       " 55,\n",
       " 67.53,\n",
       " 'a',\n",
       " 45,\n",
       " 'anand',\n",
       " 'India',\n",
       " 34.567,\n",
       " 98,\n",
       " True,\n",
       " False,\n",
       " (56+6j)]"
      ]
     },
     "execution_count": 120,
     "metadata": {},
     "output_type": "execute_result"
    }
   ],
   "source": [
    "list_items"
   ]
  },
  {
   "cell_type": "code",
   "execution_count": 130,
   "id": "dfb4712a",
   "metadata": {},
   "outputs": [],
   "source": [
    "list_items.append(\"Ankita sharma\")  ##adding items at the end of the list"
   ]
  },
  {
   "cell_type": "code",
   "execution_count": 131,
   "id": "5f3b7479",
   "metadata": {},
   "outputs": [
    {
     "data": {
      "text/plain": [
       "['hello',\n",
       " 55,\n",
       " 67.53,\n",
       " 'a',\n",
       " 45,\n",
       " 'anand',\n",
       " 'India',\n",
       " 34.567,\n",
       " 98,\n",
       " True,\n",
       " False,\n",
       " (56+6j),\n",
       " 'Ankita Gupta',\n",
       " 'Ankita Gupta',\n",
       " 'Ankita Gupta',\n",
       " 'Ankita Gupta',\n",
       " 'Ankita sharma',\n",
       " 'Ankita sharma']"
      ]
     },
     "execution_count": 131,
     "metadata": {},
     "output_type": "execute_result"
    }
   ],
   "source": [
    "list_items"
   ]
  },
  {
   "cell_type": "code",
   "execution_count": 132,
   "id": "16b566ec",
   "metadata": {},
   "outputs": [
    {
     "ename": "TypeError",
     "evalue": "list.append() takes exactly one argument (3 given)",
     "output_type": "error",
     "traceback": [
      "\u001b[1;31m---------------------------------------------------------------------------\u001b[0m",
      "\u001b[1;31mTypeError\u001b[0m                                 Traceback (most recent call last)",
      "Cell \u001b[1;32mIn[132], line 1\u001b[0m\n\u001b[1;32m----> 1\u001b[0m \u001b[43mlist_items\u001b[49m\u001b[38;5;241;43m.\u001b[39;49m\u001b[43mappend\u001b[49m\u001b[43m(\u001b[49m\u001b[38;5;124;43m\"\u001b[39;49m\u001b[38;5;124;43mAbhishek\u001b[39;49m\u001b[38;5;124;43m\"\u001b[39;49m\u001b[43m,\u001b[49m\u001b[38;5;241;43m45\u001b[39;49m\u001b[43m,\u001b[49m\u001b[38;5;241;43m56.76\u001b[39;49m\u001b[43m)\u001b[49m\n",
      "\u001b[1;31mTypeError\u001b[0m: list.append() takes exactly one argument (3 given)"
     ]
    }
   ],
   "source": [
    "list_items.append(\"Abhishek\",45,56.76)"
   ]
  },
  {
   "cell_type": "code",
   "execution_count": 133,
   "id": "7b16f922",
   "metadata": {},
   "outputs": [],
   "source": [
    "list_items.append([\"Abhishek\",[45,55], 45,56.76])"
   ]
  },
  {
   "cell_type": "code",
   "execution_count": 135,
   "id": "ea663741",
   "metadata": {},
   "outputs": [
    {
     "data": {
      "text/plain": [
       "['hello',\n",
       " 55,\n",
       " 67.53,\n",
       " 'a',\n",
       " 45,\n",
       " 'anand',\n",
       " 'India',\n",
       " 34.567,\n",
       " 98,\n",
       " True,\n",
       " False,\n",
       " (56+6j),\n",
       " 'Ankita Gupta',\n",
       " 'Ankita Gupta',\n",
       " 'Ankita Gupta',\n",
       " 'Ankita Gupta',\n",
       " 'Ankita sharma',\n",
       " 'Ankita sharma',\n",
       " ['Abhishek', 45, 56.76]]"
      ]
     },
     "execution_count": 135,
     "metadata": {},
     "output_type": "execute_result"
    }
   ],
   "source": [
    "list_items"
   ]
  },
  {
   "cell_type": "code",
   "execution_count": 153,
   "id": "4f845c08",
   "metadata": {},
   "outputs": [
    {
     "data": {
      "text/plain": [
       "'i'"
      ]
     },
     "execution_count": 153,
     "metadata": {},
     "output_type": "execute_result"
    }
   ],
   "source": [
    "list_items[12][3] "
   ]
  },
  {
   "cell_type": "code",
   "execution_count": 154,
   "id": "4fbb5f28",
   "metadata": {},
   "outputs": [],
   "source": [
    "list_items.append(\"True\")"
   ]
  },
  {
   "cell_type": "code",
   "execution_count": 155,
   "id": "d0d2de7d",
   "metadata": {},
   "outputs": [
    {
     "data": {
      "text/plain": [
       "['hello',\n",
       " 55,\n",
       " 67.53,\n",
       " 'a',\n",
       " 45,\n",
       " 'anand',\n",
       " 'India',\n",
       " 34.567,\n",
       " 98,\n",
       " True,\n",
       " False,\n",
       " (56+6j),\n",
       " 'Ankita Gupta',\n",
       " 'Ankita Gupta',\n",
       " 'Ankita Gupta',\n",
       " 'Ankita Gupta',\n",
       " 'Ankita sharma',\n",
       " 'Ankita sharma',\n",
       " ['Abhishek', 45, 56.76],\n",
       " 'True']"
      ]
     },
     "execution_count": 155,
     "metadata": {},
     "output_type": "execute_result"
    }
   ],
   "source": [
    "list_items"
   ]
  },
  {
   "cell_type": "code",
   "execution_count": 158,
   "id": "94c6cad0",
   "metadata": {},
   "outputs": [
    {
     "data": {
      "text/plain": [
       "'G'"
      ]
     },
     "execution_count": 158,
     "metadata": {},
     "output_type": "execute_result"
    }
   ],
   "source": [
    "list_items[12][7]"
   ]
  },
  {
   "cell_type": "code",
   "execution_count": 164,
   "id": "6b8a25f0",
   "metadata": {},
   "outputs": [
    {
     "data": {
      "text/plain": [
       "'Abhishek'"
      ]
     },
     "execution_count": 164,
     "metadata": {},
     "output_type": "execute_result"
    }
   ],
   "source": [
    "list_items[18][0]"
   ]
  },
  {
   "cell_type": "code",
   "execution_count": null,
   "id": "877afe39",
   "metadata": {},
   "outputs": [],
   "source": []
  },
  {
   "cell_type": "code",
   "execution_count": 165,
   "id": "45b61730",
   "metadata": {},
   "outputs": [
    {
     "data": {
      "text/plain": [
       "'h'"
      ]
     },
     "execution_count": 165,
     "metadata": {},
     "output_type": "execute_result"
    }
   ],
   "source": [
    "list_items[18][0][2]"
   ]
  },
  {
   "cell_type": "code",
   "execution_count": 167,
   "id": "152d060c",
   "metadata": {},
   "outputs": [],
   "source": [
    "list_items.append([\"Abhi\",[45,55], 45,6])"
   ]
  },
  {
   "cell_type": "code",
   "execution_count": 168,
   "id": "a8a3e356",
   "metadata": {},
   "outputs": [
    {
     "data": {
      "text/plain": [
       "['hello',\n",
       " 55,\n",
       " 67.53,\n",
       " 'a',\n",
       " 45,\n",
       " 'anand',\n",
       " 'India',\n",
       " 34.567,\n",
       " 98,\n",
       " True,\n",
       " False,\n",
       " (56+6j),\n",
       " 'Ankita Gupta',\n",
       " 'Ankita Gupta',\n",
       " 'Ankita Gupta',\n",
       " 'Ankita Gupta',\n",
       " 'Ankita sharma',\n",
       " 'Ankita sharma',\n",
       " ['Abhishek', 45, 56.76],\n",
       " 'True',\n",
       " ['Abhi', [45, 55], 45, 6]]"
      ]
     },
     "execution_count": 168,
     "metadata": {},
     "output_type": "execute_result"
    }
   ],
   "source": [
    "list_items"
   ]
  },
  {
   "cell_type": "markdown",
   "id": "94740182",
   "metadata": {},
   "source": [
    "# Insert function"
   ]
  },
  {
   "cell_type": "code",
   "execution_count": 169,
   "id": "0fd06695",
   "metadata": {},
   "outputs": [],
   "source": [
    "list_items.insert(2,\"INDIA\") #INSERT AT 3RD POSITION "
   ]
  },
  {
   "cell_type": "code",
   "execution_count": 171,
   "id": "bdcac109",
   "metadata": {},
   "outputs": [
    {
     "name": "stdout",
     "output_type": "stream",
     "text": [
      "['hello', 55, 'INDIA', 67.53, 'a', 45, 'anand', 'India', 34.567, 98, True, False, (56+6j), 'Ankita Gupta', 'Ankita Gupta', 'Ankita Gupta', 'Ankita Gupta', 'Ankita sharma', 'Ankita sharma', ['Abhishek', 45, 56.76], 'True', ['Abhi', [45, 55], 45, 6]]\n"
     ]
    }
   ],
   "source": [
    "print(list_items)"
   ]
  },
  {
   "cell_type": "code",
   "execution_count": 172,
   "id": "f0aaebcd",
   "metadata": {},
   "outputs": [],
   "source": [
    "list_items.insert(5,\"Vaishnavi\") ##other elements gets shifted"
   ]
  },
  {
   "cell_type": "code",
   "execution_count": 173,
   "id": "c78a6acc",
   "metadata": {},
   "outputs": [
    {
     "name": "stdout",
     "output_type": "stream",
     "text": [
      "['hello', 55, 'INDIA', 67.53, 'a', 'Vaishnavi', 45, 'anand', 'India', 34.567, 98, True, False, (56+6j), 'Ankita Gupta', 'Ankita Gupta', 'Ankita Gupta', 'Ankita Gupta', 'Ankita sharma', 'Ankita sharma', ['Abhishek', 45, 56.76], 'True', ['Abhi', [45, 55], 45, 6]]\n"
     ]
    }
   ],
   "source": [
    "print(list_items)"
   ]
  },
  {
   "cell_type": "code",
   "execution_count": 174,
   "id": "eeab1767",
   "metadata": {},
   "outputs": [],
   "source": [
    "list_items.insert(1,[\"Raj\",'Yash',98.76]) ##other elements gets shifted"
   ]
  },
  {
   "cell_type": "code",
   "execution_count": 175,
   "id": "59bfd6a1",
   "metadata": {},
   "outputs": [
    {
     "name": "stdout",
     "output_type": "stream",
     "text": [
      "['hello', ['Raj', 'Yash', 98.76], 55, 'INDIA', 67.53, 'a', 'Vaishnavi', 45, 'anand', 'India', 34.567, 98, True, False, (56+6j), 'Ankita Gupta', 'Ankita Gupta', 'Ankita Gupta', 'Ankita Gupta', 'Ankita sharma', 'Ankita sharma', ['Abhishek', 45, 56.76], 'True', ['Abhi', [45, 55], 45, 6]]\n"
     ]
    }
   ],
   "source": [
    "print(list_items)"
   ]
  },
  {
   "cell_type": "code",
   "execution_count": 176,
   "id": "550433b9",
   "metadata": {},
   "outputs": [
    {
     "data": {
      "text/plain": [
       "'Yash'"
      ]
     },
     "execution_count": 176,
     "metadata": {},
     "output_type": "execute_result"
    }
   ],
   "source": [
    "list_items[1][1] ##to check elements present list inside list "
   ]
  },
  {
   "cell_type": "code",
   "execution_count": null,
   "id": "c42e0280",
   "metadata": {},
   "outputs": [],
   "source": []
  }
 ],
 "metadata": {
  "kernelspec": {
   "display_name": "Python 3 (ipykernel)",
   "language": "python",
   "name": "python3"
  },
  "language_info": {
   "codemirror_mode": {
    "name": "ipython",
    "version": 3
   },
   "file_extension": ".py",
   "mimetype": "text/x-python",
   "name": "python",
   "nbconvert_exporter": "python",
   "pygments_lexer": "ipython3",
   "version": "3.10.10"
  }
 },
 "nbformat": 4,
 "nbformat_minor": 5
}
